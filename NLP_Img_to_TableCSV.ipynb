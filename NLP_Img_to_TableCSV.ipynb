{
  "nbformat": 4,
  "nbformat_minor": 0,
  "metadata": {
    "colab": {
      "provenance": []
    },
    "kernelspec": {
      "name": "python3",
      "display_name": "Python 3"
    },
    "language_info": {
      "name": "python"
    }
  },
  "cells": [
    {
      "cell_type": "code",
      "source": [
        "pip install selenium webdriver-manager"
      ],
      "metadata": {
        "collapsed": true,
        "colab": {
          "base_uri": "https://localhost:8080/"
        },
        "id": "TAHFUj-j4hKx",
        "outputId": "a794b2d7-a7ea-47c4-d02f-0524ce6a1cb7"
      },
      "execution_count": 10,
      "outputs": [
        {
          "output_type": "stream",
          "name": "stdout",
          "text": [
            "Requirement already satisfied: selenium in /usr/local/lib/python3.11/dist-packages (4.31.0)\n",
            "Requirement already satisfied: webdriver-manager in /usr/local/lib/python3.11/dist-packages (4.0.2)\n",
            "Requirement already satisfied: urllib3<3,>=1.26 in /usr/local/lib/python3.11/dist-packages (from urllib3[socks]<3,>=1.26->selenium) (2.3.0)\n",
            "Requirement already satisfied: trio~=0.17 in /usr/local/lib/python3.11/dist-packages (from selenium) (0.29.0)\n",
            "Requirement already satisfied: trio-websocket~=0.9 in /usr/local/lib/python3.11/dist-packages (from selenium) (0.12.2)\n",
            "Requirement already satisfied: certifi>=2021.10.8 in /usr/local/lib/python3.11/dist-packages (from selenium) (2025.1.31)\n",
            "Requirement already satisfied: typing_extensions~=4.9 in /usr/local/lib/python3.11/dist-packages (from selenium) (4.13.1)\n",
            "Requirement already satisfied: websocket-client~=1.8 in /usr/local/lib/python3.11/dist-packages (from selenium) (1.8.0)\n",
            "Requirement already satisfied: requests in /usr/local/lib/python3.11/dist-packages (from webdriver-manager) (2.32.3)\n",
            "Requirement already satisfied: python-dotenv in /usr/local/lib/python3.11/dist-packages (from webdriver-manager) (1.1.0)\n",
            "Requirement already satisfied: packaging in /usr/local/lib/python3.11/dist-packages (from webdriver-manager) (24.2)\n",
            "Requirement already satisfied: attrs>=23.2.0 in /usr/local/lib/python3.11/dist-packages (from trio~=0.17->selenium) (25.3.0)\n",
            "Requirement already satisfied: sortedcontainers in /usr/local/lib/python3.11/dist-packages (from trio~=0.17->selenium) (2.4.0)\n",
            "Requirement already satisfied: idna in /usr/local/lib/python3.11/dist-packages (from trio~=0.17->selenium) (3.10)\n",
            "Requirement already satisfied: outcome in /usr/local/lib/python3.11/dist-packages (from trio~=0.17->selenium) (1.3.0.post0)\n",
            "Requirement already satisfied: sniffio>=1.3.0 in /usr/local/lib/python3.11/dist-packages (from trio~=0.17->selenium) (1.3.1)\n",
            "Requirement already satisfied: wsproto>=0.14 in /usr/local/lib/python3.11/dist-packages (from trio-websocket~=0.9->selenium) (1.2.0)\n",
            "Requirement already satisfied: pysocks!=1.5.7,<2.0,>=1.5.6 in /usr/local/lib/python3.11/dist-packages (from urllib3[socks]<3,>=1.26->selenium) (1.7.1)\n",
            "Requirement already satisfied: charset-normalizer<4,>=2 in /usr/local/lib/python3.11/dist-packages (from requests->webdriver-manager) (3.4.1)\n",
            "Requirement already satisfied: h11<1,>=0.9.0 in /usr/local/lib/python3.11/dist-packages (from wsproto>=0.14->trio-websocket~=0.9->selenium) (0.14.0)\n"
          ]
        }
      ]
    },
    {
      "cell_type": "code",
      "source": [
        "# 📦 System dependencies for Chromium & ChromeDriver\n",
        "!apt-get update\n",
        "!apt install -y chromium-chromedriver\n",
        "!cp /usr/lib/chromium-browser/chromedriver /usr/bin/chromedriver\n",
        "!pip install selenium"
      ],
      "metadata": {
        "colab": {
          "base_uri": "https://localhost:8080/"
        },
        "id": "SioVA4rn5jN9",
        "outputId": "f9815469-161d-4c26-bb12-35c7a81c8cc0"
      },
      "execution_count": 11,
      "outputs": [
        {
          "output_type": "stream",
          "name": "stdout",
          "text": [
            "\r0% [Working]\r            \rHit:1 https://cloud.r-project.org/bin/linux/ubuntu jammy-cran40/ InRelease\n",
            "\r0% [Connecting to archive.ubuntu.com (91.189.91.83)] [Connecting to security.ub\r                                                                               \rHit:2 https://developer.download.nvidia.com/compute/cuda/repos/ubuntu2204/x86_64  InRelease\n",
            "\r0% [Waiting for headers] [Connecting to security.ubuntu.com] [Connected to r2u.\r                                                                               \rHit:3 http://archive.ubuntu.com/ubuntu jammy InRelease\n",
            "Hit:4 http://archive.ubuntu.com/ubuntu jammy-updates InRelease\n",
            "Hit:5 http://security.ubuntu.com/ubuntu jammy-security InRelease\n",
            "Hit:6 http://archive.ubuntu.com/ubuntu jammy-backports InRelease\n",
            "Hit:7 https://r2u.stat.illinois.edu/ubuntu jammy InRelease\n",
            "Hit:8 https://ppa.launchpadcontent.net/deadsnakes/ppa/ubuntu jammy InRelease\n",
            "Hit:9 https://ppa.launchpadcontent.net/graphics-drivers/ppa/ubuntu jammy InRelease\n",
            "Hit:10 https://ppa.launchpadcontent.net/ubuntugis/ppa/ubuntu jammy InRelease\n",
            "Reading package lists... Done\n",
            "W: Skipping acquire of configured file 'main/source/Sources' as repository 'https://r2u.stat.illinois.edu/ubuntu jammy InRelease' does not seem to provide it (sources.list entry misspelt?)\n",
            "Reading package lists... Done\n",
            "Building dependency tree... Done\n",
            "Reading state information... Done\n",
            "chromium-chromedriver is already the newest version (1:85.0.4183.83-0ubuntu2.22.04.1).\n",
            "0 upgraded, 0 newly installed, 0 to remove and 31 not upgraded.\n",
            "cp: '/usr/lib/chromium-browser/chromedriver' and '/usr/bin/chromedriver' are the same file\n",
            "Requirement already satisfied: selenium in /usr/local/lib/python3.11/dist-packages (4.31.0)\n",
            "Requirement already satisfied: urllib3<3,>=1.26 in /usr/local/lib/python3.11/dist-packages (from urllib3[socks]<3,>=1.26->selenium) (2.3.0)\n",
            "Requirement already satisfied: trio~=0.17 in /usr/local/lib/python3.11/dist-packages (from selenium) (0.29.0)\n",
            "Requirement already satisfied: trio-websocket~=0.9 in /usr/local/lib/python3.11/dist-packages (from selenium) (0.12.2)\n",
            "Requirement already satisfied: certifi>=2021.10.8 in /usr/local/lib/python3.11/dist-packages (from selenium) (2025.1.31)\n",
            "Requirement already satisfied: typing_extensions~=4.9 in /usr/local/lib/python3.11/dist-packages (from selenium) (4.13.1)\n",
            "Requirement already satisfied: websocket-client~=1.8 in /usr/local/lib/python3.11/dist-packages (from selenium) (1.8.0)\n",
            "Requirement already satisfied: attrs>=23.2.0 in /usr/local/lib/python3.11/dist-packages (from trio~=0.17->selenium) (25.3.0)\n",
            "Requirement already satisfied: sortedcontainers in /usr/local/lib/python3.11/dist-packages (from trio~=0.17->selenium) (2.4.0)\n",
            "Requirement already satisfied: idna in /usr/local/lib/python3.11/dist-packages (from trio~=0.17->selenium) (3.10)\n",
            "Requirement already satisfied: outcome in /usr/local/lib/python3.11/dist-packages (from trio~=0.17->selenium) (1.3.0.post0)\n",
            "Requirement already satisfied: sniffio>=1.3.0 in /usr/local/lib/python3.11/dist-packages (from trio~=0.17->selenium) (1.3.1)\n",
            "Requirement already satisfied: wsproto>=0.14 in /usr/local/lib/python3.11/dist-packages (from trio-websocket~=0.9->selenium) (1.2.0)\n",
            "Requirement already satisfied: pysocks!=1.5.7,<2.0,>=1.5.6 in /usr/local/lib/python3.11/dist-packages (from urllib3[socks]<3,>=1.26->selenium) (1.7.1)\n",
            "Requirement already satisfied: h11<1,>=0.9.0 in /usr/local/lib/python3.11/dist-packages (from wsproto>=0.14->trio-websocket~=0.9->selenium) (0.14.0)\n"
          ]
        }
      ]
    },
    {
      "cell_type": "code",
      "source": [
        "# Install required packages\n",
        "!pip install selenium webdriver-manager pillow\n",
        "\n",
        "# Import core Python modules\n",
        "import os\n",
        "import time\n",
        "import logging\n",
        "import shutil\n",
        "import hashlib\n",
        "from selenium import webdriver\n",
        "from selenium.webdriver.common.by import By\n",
        "from selenium.webdriver.support.ui import WebDriverWait\n",
        "from selenium.webdriver.support import expected_conditions as EC\n",
        "from selenium.webdriver.chrome.service import Service\n",
        "from webdriver_manager.chrome import ChromeDriverManager\n",
        "from PIL import Image\n",
        "\n",
        "# Configure logging\n",
        "logging.basicConfig(\n",
        "    level=logging.INFO,\n",
        "    format='%(asctime)s - %(levelname)s - %(message)s',\n",
        "    handlers=[\n",
        "        logging.FileHandler('scraper.log'),\n",
        "        logging.StreamHandler()\n",
        "    ]\n",
        ")\n",
        "\n",
        "# Ask for website URL at runtime\n",
        "website_url = input(\"Enter the website URL: \")\n",
        "\n",
        "# Configuration\n",
        "CONFIG = {\n",
        "    'url': website_url,\n",
        "    'output_dir': \"webpage_elements\",\n",
        "    'fullpage_dir': \"full_page\",\n",
        "    'html_save_path': \"saved_page.html\",\n",
        "    'min_container_width': 300,  # Minimum width in pixels\n",
        "    'min_container_height': 150,  # Minimum height in pixels\n",
        "    'container_selectors': {\n",
        "        'image_containers': [\n",
        "            '//figure[contains(@class, \"mw-default-size\")]',\n",
        "            '//div[contains(@class, \"thumb\")]',\n",
        "            '//div[contains(@class, \"image-container\")]'\n",
        "        ],\n",
        "        'tables': '//table[not(ancestor::div[contains(@class, \"navbox\")])]',\n",
        "        'graphs': '//div[contains(@class, \"chart\") or contains(@class, \"graph\")]'\n",
        "    },\n",
        "    'exclude_selectors': [\n",
        "        '.navbox',\n",
        "        '.sidebar',\n",
        "        '.mw-logo',\n",
        "        '.vector-header-container'\n",
        "    ],\n",
        "    'scroll_padding': 50,\n",
        "    'wait_timeout': 15\n",
        "}\n",
        "\n",
        "captured_hashes = set()\n",
        "\n",
        "def initialize_environment():\n",
        "    \"\"\"Set up directory structure and clean previous runs\"\"\"\n",
        "    try:\n",
        "        if os.path.exists(CONFIG['output_dir']):\n",
        "            shutil.rmtree(CONFIG['output_dir'])\n",
        "\n",
        "        os.makedirs(CONFIG['output_dir'], exist_ok=True)\n",
        "        os.makedirs(os.path.join(CONFIG['output_dir'], CONFIG['fullpage_dir']), exist_ok=True)\n",
        "\n",
        "        logging.info(\"Environment initialized\")\n",
        "\n",
        "    except Exception as e:\n",
        "        logging.error(f\"Environment setup failed: {str(e)}\")\n",
        "        raise\n",
        "\n",
        "def create_driver():\n",
        "    \"\"\"Configure and initialize headless Chrome for Colab\"\"\"\n",
        "    try:\n",
        "        # Colab-specific Chrome options\n",
        "        chrome_options = webdriver.ChromeOptions()\n",
        "        chrome_options.add_argument('--headless')\n",
        "        chrome_options.add_argument('--no-sandbox')\n",
        "        chrome_options.add_argument('--disable-dev-shm-usage')\n",
        "        chrome_options.add_argument('--window-size=1920,1080')\n",
        "        chrome_options.add_argument('--disable-gpu')\n",
        "\n",
        "        # Use Colab-specific setup\n",
        "        driver = webdriver.Chrome(options=chrome_options)\n",
        "        driver.set_page_load_timeout(30)\n",
        "\n",
        "        logging.info(\"Chrome instance created\")\n",
        "        return driver\n",
        "\n",
        "    except Exception as e:\n",
        "        logging.error(f\"Driver creation failed: {str(e)}\")\n",
        "        raise\n",
        "\n",
        "def get_container_hash(element):\n",
        "    \"\"\"Create unique identifier for containers to prevent duplicates\"\"\"\n",
        "    location = element.location\n",
        "    size = element.size\n",
        "    hash_string = f\"{location['x']}_{location['y']}_{size['width']}_{size['height']}\"\n",
        "    return hashlib.md5(hash_string.encode()).hexdigest()\n",
        "\n",
        "def is_valid_container(element):\n",
        "    \"\"\"Validate container meets size requirements and visibility\"\"\"\n",
        "    try:\n",
        "        size = element.size\n",
        "        return all([\n",
        "            element.is_displayed(),\n",
        "            size['width'] >= CONFIG['min_container_width'],\n",
        "            size['height'] >= CONFIG['min_container_height']\n",
        "        ])\n",
        "    except Exception:\n",
        "        return False\n",
        "\n",
        "def save_page_html(driver):\n",
        "    \"\"\"Save the HTML source code of the page\"\"\"\n",
        "    try:\n",
        "        with open(CONFIG['html_save_path'], 'w', encoding='utf-8') as file:\n",
        "            file.write(driver.page_source)\n",
        "        logging.info(f\"Page HTML saved: {CONFIG['html_save_path']}\")\n",
        "    except Exception as e:\n",
        "        logging.error(f\"Saving HTML failed: {str(e)}\")\n",
        "\n",
        "def capture_full_page_screenshot(driver):\n",
        "    \"\"\"Capture full page screenshot by scrolling and stitching images\"\"\"\n",
        "    try:\n",
        "        total_width = driver.execute_script(\"return document.body.scrollWidth\")\n",
        "        total_height = driver.execute_script(\"return document.body.scrollHeight\")\n",
        "        viewport_height = driver.execute_script(\"return window.innerHeight\")\n",
        "        driver.set_window_size(total_width, viewport_height)\n",
        "\n",
        "        timestamp = int(time.time())\n",
        "        fullpage_path = os.path.join(CONFIG['output_dir'], CONFIG['fullpage_dir'], f\"fullpage_{timestamp}.png\")\n",
        "\n",
        "        stitched_image = Image.new('RGB', (total_width, total_height))\n",
        "        current_y = 0\n",
        "\n",
        "        for y in range(0, total_height, viewport_height):\n",
        "            driver.execute_script(f\"window.scrollTo(0, {y})\")\n",
        "            time.sleep(0.5)\n",
        "            temp_path = f\"temp_screenshot_{y}.png\"\n",
        "            driver.save_screenshot(temp_path)\n",
        "            screenshot = Image.open(temp_path)\n",
        "            stitched_image.paste(screenshot, (0, current_y))\n",
        "            current_y += screenshot.size[1]\n",
        "            os.remove(temp_path)\n",
        "\n",
        "        stitched_image.save(fullpage_path)\n",
        "        logging.info(f\"Full page screenshot saved: {fullpage_path}\")\n",
        "    except Exception as e:\n",
        "        logging.error(f\"Full page capture failed: {str(e)}\")\n",
        "\n",
        "def capture_container(driver, container, container_type):\n",
        "    \"\"\"Capture screenshot of validated container\"\"\"\n",
        "    try:\n",
        "        container_hash = get_container_hash(container)\n",
        "        if container_hash in captured_hashes or not is_valid_container(container):\n",
        "            return\n",
        "\n",
        "        # Scroll to container\n",
        "        driver.execute_script(\"arguments[0].scrollIntoView({behavior: 'smooth', block: 'center'});\", container)\n",
        "        time.sleep(0.5)  # Allow for rendering\n",
        "\n",
        "        # Create output filename\n",
        "        timestamp = int(time.time())\n",
        "        filename = f\"{container_type}_{timestamp}_{container_hash[:6]}.png\"\n",
        "        output_path = os.path.join(CONFIG['output_dir'], filename)\n",
        "\n",
        "        # Capture and save\n",
        "        container.screenshot(output_path)\n",
        "        captured_hashes.add(container_hash)\n",
        "        logging.info(f\"Captured {container_type} container: {filename}\")\n",
        "\n",
        "    except Exception as e:\n",
        "        logging.warning(f\"Container capture failed: {str(e)}\")\n",
        "\n",
        "def find_content_containers(driver):\n",
        "    \"\"\"Locate relevant content containers excluding navigation elements\"\"\"\n",
        "    logging.info(\"Identifying content containers\")\n",
        "\n",
        "    containers = []\n",
        "\n",
        "    # Find image containers\n",
        "    for xpath in CONFIG['container_selectors']['image_containers']:\n",
        "        containers.extend(driver.find_elements(By.XPATH, xpath))\n",
        "\n",
        "    # Find tables and graphs\n",
        "    for element_type in ['tables', 'graphs']:\n",
        "        containers.extend(driver.find_elements(By.XPATH, CONFIG['container_selectors'][element_type]))\n",
        "\n",
        "    # Filter out excluded elements\n",
        "    filtered = []\n",
        "    for container in containers:\n",
        "        try:\n",
        "            if not container.find_elements(By.XPATH, 'ancestor::*[{}]'.format(\n",
        "                ' or '.join([f'contains(@class, \"{cls}\")' for cls in CONFIG['exclude_selectors']])\n",
        "            )):\n",
        "                filtered.append(container)\n",
        "        except Exception:\n",
        "            continue\n",
        "\n",
        "    logging.info(f\"Found {len(filtered)} valid containers\")\n",
        "    return filtered\n",
        "\n",
        "def process_page(driver):\n",
        "    \"\"\"Main processing workflow\"\"\"\n",
        "    try:\n",
        "        # Save HTML content\n",
        "        save_page_html(driver)\n",
        "\n",
        "        # Capture full page first\n",
        "        capture_full_page_screenshot(driver)\n",
        "\n",
        "        # Find and process containers\n",
        "        containers = find_content_containers(driver)\n",
        "        for idx, container in enumerate(containers, 1):\n",
        "            container_type = \"image\" if idx <= len(CONFIG['container_selectors']['image_containers']) else \"content\"\n",
        "            capture_container(driver, container, container_type)\n",
        "\n",
        "    except Exception as e:\n",
        "        logging.error(f\"Processing failed: {str(e)}\")\n",
        "        raise\n",
        "\n",
        "def execute_workflow():\n",
        "    \"\"\"Main execution controller\"\"\"\n",
        "    driver = None\n",
        "    try:\n",
        "        initialize_environment()\n",
        "        driver = create_driver()\n",
        "\n",
        "        logging.info(f\"Loading: {CONFIG['url']}\")\n",
        "        driver.get(CONFIG['url'])\n",
        "\n",
        "        WebDriverWait(driver, CONFIG['wait_timeout']).until(\n",
        "            EC.presence_of_element_located((By.XPATH, \"//body\"))\n",
        "        )\n",
        "        process_page(driver)\n",
        "        logging.info(\"Operation completed successfully\")\n",
        "\n",
        "    except Exception as e:\n",
        "        logging.error(f\"Workflow failed: {str(e)}\")\n",
        "    finally:\n",
        "        if driver:\n",
        "            driver.quit()\n",
        "            logging.info(\"Browser instance closed\")\n",
        "\n",
        "if __name__ == \"__main__\":\n",
        "    execute_workflow()"
      ],
      "metadata": {
        "colab": {
          "base_uri": "https://localhost:8080/"
        },
        "id": "23JVN-do6eh0",
        "outputId": "d0a24f26-6c9f-45c7-d49e-f731432302b9"
      },
      "execution_count": 16,
      "outputs": [
        {
          "name": "stdout",
          "output_type": "stream",
          "text": [
            "Requirement already satisfied: selenium in /usr/local/lib/python3.11/dist-packages (4.31.0)\n",
            "Requirement already satisfied: webdriver-manager in /usr/local/lib/python3.11/dist-packages (4.0.2)\n",
            "Requirement already satisfied: pillow in /usr/local/lib/python3.11/dist-packages (11.1.0)\n",
            "Requirement already satisfied: urllib3<3,>=1.26 in /usr/local/lib/python3.11/dist-packages (from urllib3[socks]<3,>=1.26->selenium) (2.3.0)\n",
            "Requirement already satisfied: trio~=0.17 in /usr/local/lib/python3.11/dist-packages (from selenium) (0.29.0)\n",
            "Requirement already satisfied: trio-websocket~=0.9 in /usr/local/lib/python3.11/dist-packages (from selenium) (0.12.2)\n",
            "Requirement already satisfied: certifi>=2021.10.8 in /usr/local/lib/python3.11/dist-packages (from selenium) (2025.1.31)\n",
            "Requirement already satisfied: typing_extensions~=4.9 in /usr/local/lib/python3.11/dist-packages (from selenium) (4.13.1)\n",
            "Requirement already satisfied: websocket-client~=1.8 in /usr/local/lib/python3.11/dist-packages (from selenium) (1.8.0)\n",
            "Requirement already satisfied: requests in /usr/local/lib/python3.11/dist-packages (from webdriver-manager) (2.32.3)\n",
            "Requirement already satisfied: python-dotenv in /usr/local/lib/python3.11/dist-packages (from webdriver-manager) (1.1.0)\n",
            "Requirement already satisfied: packaging in /usr/local/lib/python3.11/dist-packages (from webdriver-manager) (24.2)\n",
            "Requirement already satisfied: attrs>=23.2.0 in /usr/local/lib/python3.11/dist-packages (from trio~=0.17->selenium) (25.3.0)\n",
            "Requirement already satisfied: sortedcontainers in /usr/local/lib/python3.11/dist-packages (from trio~=0.17->selenium) (2.4.0)\n",
            "Requirement already satisfied: idna in /usr/local/lib/python3.11/dist-packages (from trio~=0.17->selenium) (3.10)\n",
            "Requirement already satisfied: outcome in /usr/local/lib/python3.11/dist-packages (from trio~=0.17->selenium) (1.3.0.post0)\n",
            "Requirement already satisfied: sniffio>=1.3.0 in /usr/local/lib/python3.11/dist-packages (from trio~=0.17->selenium) (1.3.1)\n",
            "Requirement already satisfied: wsproto>=0.14 in /usr/local/lib/python3.11/dist-packages (from trio-websocket~=0.9->selenium) (1.2.0)\n",
            "Requirement already satisfied: pysocks!=1.5.7,<2.0,>=1.5.6 in /usr/local/lib/python3.11/dist-packages (from urllib3[socks]<3,>=1.26->selenium) (1.7.1)\n",
            "Requirement already satisfied: charset-normalizer<4,>=2 in /usr/local/lib/python3.11/dist-packages (from requests->webdriver-manager) (3.4.1)\n",
            "Requirement already satisfied: h11<1,>=0.9.0 in /usr/local/lib/python3.11/dist-packages (from wsproto>=0.14->trio-websocket~=0.9->selenium) (0.14.0)\n",
            "Enter the website URL: https://en.wikipedia.org/wiki/2024_United_States_presidential_election\n"
          ]
        }
      ]
    },
    {
      "cell_type": "code",
      "source": [
        "# Install required packages\n",
        "!pip install google-generativeai pillow pandas\n",
        "\n",
        "import os\n",
        "import glob\n",
        "import json\n",
        "import pandas as pd\n",
        "from google import generativeai as genai\n",
        "import PIL.Image\n",
        "\n",
        "# Configuration\n",
        "OUTPUT_DIR = \"/content/webpage_elements\"\n",
        "CSV_OUTPUT_DIR = \"/content/webpage_elements_csv\"\n",
        "CATEGORIES = [\"table\", \"map\", \"chart\", \"graph\", \"other\"]\n",
        "API_KEY = \"Replace_With_Your_API\"  # Your Gemini API key\n",
        "\n",
        "# Initialize the Gemini client - FIXED API INITIALIZATION\n",
        "genai.configure(api_key=API_KEY)\n",
        "\n",
        "# Create output directory for CSVs if it doesn't exist\n",
        "os.makedirs(CSV_OUTPUT_DIR, exist_ok=True)\n",
        "\n",
        "# Create directories for each category\n",
        "for category in CATEGORIES:\n",
        "    os.makedirs(os.path.join(CSV_OUTPUT_DIR, category), exist_ok=True)\n",
        "\n",
        "def categorize_image(image_path):\n",
        "    \"\"\"Use Gemini to categorize the image type\"\"\"\n",
        "    try:\n",
        "        # Load the image\n",
        "        image = PIL.Image.open(image_path)\n",
        "\n",
        "        # Ask Gemini to categorize the image\n",
        "        model = genai.GenerativeModel('gemini-2.0-flash')\n",
        "        response = model.generate_content([\n",
        "            \"Categorize this image into exactly ONE of these categories: table, map, chart, graph, or other. \" +\n",
        "            \"Respond with ONLY the category name in lowercase without any additional text.\",\n",
        "            image\n",
        "        ])\n",
        "\n",
        "        # Get the category\n",
        "        category = response.text.strip().lower()\n",
        "\n",
        "        # Validate the category\n",
        "        if category not in CATEGORIES:\n",
        "            print(f\"Unexpected category '{category}' for {image_path}, defaulting to 'other'\")\n",
        "            category = \"other\"\n",
        "\n",
        "        return category\n",
        "\n",
        "    except Exception as e:\n",
        "        print(f\"Error categorizing {image_path}: {str(e)}\")\n",
        "        return \"other\"\n",
        "\n",
        "def extract_table_to_csv(image_path, output_path):\n",
        "    \"\"\"Extract table content from image and save as CSV\"\"\"\n",
        "    try:\n",
        "        # Load the image\n",
        "        image = PIL.Image.open(image_path)\n",
        "\n",
        "        # Ask Gemini to extract the table content\n",
        "        model = genai.GenerativeModel('gemini-2.0-flash')\n",
        "        response = model.generate_content([\n",
        "            \"Extract the content of this table into a CSV format. \" +\n",
        "            \"Provide ONLY the CSV data with comma as delimiter, with no additional text. \" +\n",
        "            \"Each row should be on a new line. Include the header row.\",\n",
        "            image\n",
        "        ])\n",
        "\n",
        "        csv_content = response.text.strip()\n",
        "\n",
        "        # Try to parse the CSV content to validate it\n",
        "        try:\n",
        "            # Split the raw text into lines\n",
        "            lines = csv_content.split('\\n')\n",
        "\n",
        "            # Convert to a list of lists for pandas DataFrame\n",
        "            data = [line.split(',') for line in lines]\n",
        "\n",
        "            if len(data) > 0 and len(data[0]) > 0:\n",
        "                # Create a DataFrame\n",
        "                df = pd.DataFrame(data[1:], columns=data[0])\n",
        "\n",
        "                # Save to CSV\n",
        "                df.to_csv(output_path, index=False)\n",
        "                print(f\"Saved table as CSV: {output_path}\")\n",
        "                return True\n",
        "            else:\n",
        "                print(f\"Failed to parse CSV content for {image_path}\")\n",
        "                return False\n",
        "\n",
        "        except Exception as e:\n",
        "            print(f\"Error parsing CSV content: {str(e)}\")\n",
        "            # Save the raw text as a fallback\n",
        "            with open(output_path, 'w') as f:\n",
        "                f.write(csv_content)\n",
        "            print(f\"Saved raw table content as CSV: {output_path}\")\n",
        "            return True\n",
        "\n",
        "    except Exception as e:\n",
        "        print(f\"Error extracting table from {image_path}: {str(e)}\")\n",
        "        return False\n",
        "\n",
        "def process_all_images():\n",
        "    \"\"\"Process all images in the output directory\"\"\"\n",
        "    # Get all image files\n",
        "    image_files = glob.glob(os.path.join(OUTPUT_DIR, \"*.png\"))\n",
        "\n",
        "    # Add images from fullpage directory\n",
        "    image_files.extend(glob.glob(os.path.join(OUTPUT_DIR, \"full_page\", \"*.png\")))\n",
        "\n",
        "    print(f\"Found {len(image_files)} images to process\")\n",
        "\n",
        "    # Create a dictionary to store image categories\n",
        "    image_categories = {}\n",
        "\n",
        "    # Process each image\n",
        "    for image_path in image_files:\n",
        "        image_filename = os.path.basename(image_path)\n",
        "        print(f\"Processing: {image_filename}\")\n",
        "\n",
        "        # Categorize the image\n",
        "        category = categorize_image(image_path)\n",
        "        print(f\"  Categorized as: {category}\")\n",
        "\n",
        "        # Add to categories dictionary\n",
        "        image_categories[image_filename] = category\n",
        "\n",
        "        # Create symlink or copy to category directory\n",
        "        category_dir = os.path.join(CSV_OUTPUT_DIR, category)\n",
        "\n",
        "        # Use copy instead of symlink for better compatibility\n",
        "        import shutil\n",
        "        dest_path = os.path.join(category_dir, image_filename)\n",
        "        shutil.copy2(image_path, dest_path)\n",
        "        print(f\"  Copied to: {dest_path}\")\n",
        "\n",
        "        # If it's a table, extract to CSV\n",
        "        if category == \"table\":\n",
        "            csv_filename = os.path.splitext(image_filename)[0] + \".csv\"\n",
        "            csv_path = os.path.join(category_dir, csv_filename)\n",
        "            extract_table_to_csv(image_path, csv_path)\n",
        "\n",
        "    # Save the categories to a JSON file for reference\n",
        "    with open(os.path.join(CSV_OUTPUT_DIR, \"image_categories.json\"), 'w') as f:\n",
        "        json.dump(image_categories, f, indent=2)\n",
        "\n",
        "    print(f\"Processing complete. Found {len(image_categories)} images:\")\n",
        "    for category in CATEGORIES:\n",
        "        count = list(image_categories.values()).count(category)\n",
        "        print(f\"  {category}: {count}\")\n",
        "\n",
        "if __name__ == \"__main__\":\n",
        "    process_all_images()"
      ],
      "metadata": {
        "colab": {
          "base_uri": "https://localhost:8080/",
          "height": 1000
        },
        "id": "pdNAqJTKAJ4y",
        "outputId": "739f8433-678d-4df8-d7b7-cd858cd97ddc"
      },
      "execution_count": 18,
      "outputs": [
        {
          "output_type": "stream",
          "name": "stdout",
          "text": [
            "Requirement already satisfied: google-generativeai in /usr/local/lib/python3.11/dist-packages (0.8.4)\n",
            "Requirement already satisfied: pillow in /usr/local/lib/python3.11/dist-packages (11.1.0)\n",
            "Requirement already satisfied: pandas in /usr/local/lib/python3.11/dist-packages (2.2.2)\n",
            "Requirement already satisfied: google-ai-generativelanguage==0.6.15 in /usr/local/lib/python3.11/dist-packages (from google-generativeai) (0.6.15)\n",
            "Requirement already satisfied: google-api-core in /usr/local/lib/python3.11/dist-packages (from google-generativeai) (2.24.2)\n",
            "Requirement already satisfied: google-api-python-client in /usr/local/lib/python3.11/dist-packages (from google-generativeai) (2.164.0)\n",
            "Requirement already satisfied: google-auth>=2.15.0 in /usr/local/lib/python3.11/dist-packages (from google-generativeai) (2.38.0)\n",
            "Requirement already satisfied: protobuf in /usr/local/lib/python3.11/dist-packages (from google-generativeai) (5.29.4)\n",
            "Requirement already satisfied: pydantic in /usr/local/lib/python3.11/dist-packages (from google-generativeai) (2.11.2)\n",
            "Requirement already satisfied: tqdm in /usr/local/lib/python3.11/dist-packages (from google-generativeai) (4.67.1)\n",
            "Requirement already satisfied: typing-extensions in /usr/local/lib/python3.11/dist-packages (from google-generativeai) (4.13.1)\n",
            "Requirement already satisfied: proto-plus<2.0.0dev,>=1.22.3 in /usr/local/lib/python3.11/dist-packages (from google-ai-generativelanguage==0.6.15->google-generativeai) (1.26.1)\n",
            "Requirement already satisfied: numpy>=1.23.2 in /usr/local/lib/python3.11/dist-packages (from pandas) (2.0.2)\n",
            "Requirement already satisfied: python-dateutil>=2.8.2 in /usr/local/lib/python3.11/dist-packages (from pandas) (2.8.2)\n",
            "Requirement already satisfied: pytz>=2020.1 in /usr/local/lib/python3.11/dist-packages (from pandas) (2025.2)\n",
            "Requirement already satisfied: tzdata>=2022.7 in /usr/local/lib/python3.11/dist-packages (from pandas) (2025.2)\n",
            "Requirement already satisfied: googleapis-common-protos<2.0.0,>=1.56.2 in /usr/local/lib/python3.11/dist-packages (from google-api-core->google-generativeai) (1.69.2)\n",
            "Requirement already satisfied: requests<3.0.0,>=2.18.0 in /usr/local/lib/python3.11/dist-packages (from google-api-core->google-generativeai) (2.32.3)\n",
            "Requirement already satisfied: cachetools<6.0,>=2.0.0 in /usr/local/lib/python3.11/dist-packages (from google-auth>=2.15.0->google-generativeai) (5.5.2)\n",
            "Requirement already satisfied: pyasn1-modules>=0.2.1 in /usr/local/lib/python3.11/dist-packages (from google-auth>=2.15.0->google-generativeai) (0.4.2)\n",
            "Requirement already satisfied: rsa<5,>=3.1.4 in /usr/local/lib/python3.11/dist-packages (from google-auth>=2.15.0->google-generativeai) (4.9)\n",
            "Requirement already satisfied: six>=1.5 in /usr/local/lib/python3.11/dist-packages (from python-dateutil>=2.8.2->pandas) (1.17.0)\n",
            "Requirement already satisfied: httplib2<1.dev0,>=0.19.0 in /usr/local/lib/python3.11/dist-packages (from google-api-python-client->google-generativeai) (0.22.0)\n",
            "Requirement already satisfied: google-auth-httplib2<1.0.0,>=0.2.0 in /usr/local/lib/python3.11/dist-packages (from google-api-python-client->google-generativeai) (0.2.0)\n",
            "Requirement already satisfied: uritemplate<5,>=3.0.1 in /usr/local/lib/python3.11/dist-packages (from google-api-python-client->google-generativeai) (4.1.1)\n",
            "Requirement already satisfied: annotated-types>=0.6.0 in /usr/local/lib/python3.11/dist-packages (from pydantic->google-generativeai) (0.7.0)\n",
            "Requirement already satisfied: pydantic-core==2.33.1 in /usr/local/lib/python3.11/dist-packages (from pydantic->google-generativeai) (2.33.1)\n",
            "Requirement already satisfied: typing-inspection>=0.4.0 in /usr/local/lib/python3.11/dist-packages (from pydantic->google-generativeai) (0.4.0)\n",
            "Requirement already satisfied: grpcio<2.0dev,>=1.33.2 in /usr/local/lib/python3.11/dist-packages (from google-api-core[grpc]!=2.0.*,!=2.1.*,!=2.10.*,!=2.2.*,!=2.3.*,!=2.4.*,!=2.5.*,!=2.6.*,!=2.7.*,!=2.8.*,!=2.9.*,<3.0.0dev,>=1.34.1->google-ai-generativelanguage==0.6.15->google-generativeai) (1.71.0)\n",
            "Requirement already satisfied: grpcio-status<2.0.dev0,>=1.33.2 in /usr/local/lib/python3.11/dist-packages (from google-api-core[grpc]!=2.0.*,!=2.1.*,!=2.10.*,!=2.2.*,!=2.3.*,!=2.4.*,!=2.5.*,!=2.6.*,!=2.7.*,!=2.8.*,!=2.9.*,<3.0.0dev,>=1.34.1->google-ai-generativelanguage==0.6.15->google-generativeai) (1.71.0)\n",
            "Requirement already satisfied: pyparsing!=3.0.0,!=3.0.1,!=3.0.2,!=3.0.3,<4,>=2.4.2 in /usr/local/lib/python3.11/dist-packages (from httplib2<1.dev0,>=0.19.0->google-api-python-client->google-generativeai) (3.2.3)\n",
            "Requirement already satisfied: pyasn1<0.7.0,>=0.6.1 in /usr/local/lib/python3.11/dist-packages (from pyasn1-modules>=0.2.1->google-auth>=2.15.0->google-generativeai) (0.6.1)\n",
            "Requirement already satisfied: charset-normalizer<4,>=2 in /usr/local/lib/python3.11/dist-packages (from requests<3.0.0,>=2.18.0->google-api-core->google-generativeai) (3.4.1)\n",
            "Requirement already satisfied: idna<4,>=2.5 in /usr/local/lib/python3.11/dist-packages (from requests<3.0.0,>=2.18.0->google-api-core->google-generativeai) (3.10)\n",
            "Requirement already satisfied: urllib3<3,>=1.21.1 in /usr/local/lib/python3.11/dist-packages (from requests<3.0.0,>=2.18.0->google-api-core->google-generativeai) (2.3.0)\n",
            "Requirement already satisfied: certifi>=2017.4.17 in /usr/local/lib/python3.11/dist-packages (from requests<3.0.0,>=2.18.0->google-api-core->google-generativeai) (2025.1.31)\n",
            "Found 27 images to process\n",
            "Processing: content_1744325976_154fc0.png\n",
            "  Categorized as: table\n",
            "  Copied to: /content/webpage_elements_csv/table/content_1744325976_154fc0.png\n",
            "Saved table as CSV: /content/webpage_elements_csv/table/content_1744325976_154fc0.csv\n",
            "Processing: content_1744325977_51fab5.png\n",
            "  Categorized as: table\n",
            "  Copied to: /content/webpage_elements_csv/table/content_1744325977_51fab5.png\n",
            "Error parsing CSV content: 10 columns passed, passed data had 14 columns\n",
            "Saved raw table content as CSV: /content/webpage_elements_csv/table/content_1744325977_51fab5.csv\n",
            "Processing: content_1744325981_c3eb16.png\n",
            "  Categorized as: table\n",
            "  Copied to: /content/webpage_elements_csv/table/content_1744325981_c3eb16.png\n",
            "Error parsing CSV content: 2 columns passed, passed data had 4 columns\n",
            "Saved raw table content as CSV: /content/webpage_elements_csv/table/content_1744325981_c3eb16.csv\n",
            "Processing: content_1744325973_9771f2.png\n",
            "  Categorized as: table\n",
            "  Copied to: /content/webpage_elements_csv/table/content_1744325973_9771f2.png\n",
            "Saved table as CSV: /content/webpage_elements_csv/table/content_1744325973_9771f2.csv\n",
            "Processing: content_1744325975_a9db58.png\n",
            "  Categorized as: table\n",
            "  Copied to: /content/webpage_elements_csv/table/content_1744325975_a9db58.png\n",
            "Saved table as CSV: /content/webpage_elements_csv/table/content_1744325975_a9db58.csv\n",
            "Processing: content_1744325969_c2dbd8.png\n",
            "  Categorized as: table\n",
            "  Copied to: /content/webpage_elements_csv/table/content_1744325969_c2dbd8.png\n",
            "Error parsing CSV content: 2 columns passed, passed data had 3 columns\n",
            "Saved raw table content as CSV: /content/webpage_elements_csv/table/content_1744325969_c2dbd8.csv\n",
            "Processing: content_1744325965_3d8480.png\n",
            "  Categorized as: map\n",
            "  Copied to: /content/webpage_elements_csv/map/content_1744325965_3d8480.png\n",
            "Processing: content_1744325964_3d3e01.png\n",
            "  Categorized as: map\n",
            "  Copied to: /content/webpage_elements_csv/map/content_1744325964_3d3e01.png\n",
            "Processing: content_1744325972_975996.png\n",
            "  Categorized as: table\n",
            "  Copied to: /content/webpage_elements_csv/table/content_1744325972_975996.png\n"
          ]
        },
        {
          "output_type": "stream",
          "name": "stderr",
          "text": [
            "WARNING:tornado.access:429 POST /v1beta/models/gemini-2.0-flash:generateContent?%24alt=json%3Benum-encoding%3Dint (127.0.0.1) 505.52ms\n"
          ]
        },
        {
          "output_type": "stream",
          "name": "stdout",
          "text": [
            "Error extracting table from /content/webpage_elements/content_1744325972_975996.png: 429 POST https://generativelanguage.googleapis.com/v1beta/models/gemini-2.0-flash:generateContent?%24alt=json%3Benum-encoding%3Dint: You exceeded your current quota, please check your plan and billing details. For more information on this error, head to: https://ai.google.dev/gemini-api/docs/rate-limits.\n",
            "Processing: content_1744325962_28f1c7.png\n"
          ]
        },
        {
          "output_type": "stream",
          "name": "stderr",
          "text": [
            "WARNING:tornado.access:429 POST /v1beta/models/gemini-2.0-flash:generateContent?%24alt=json%3Benum-encoding%3Dint (127.0.0.1) 303.62ms\n"
          ]
        },
        {
          "output_type": "stream",
          "name": "stdout",
          "text": [
            "Error categorizing /content/webpage_elements/content_1744325962_28f1c7.png: 429 POST https://generativelanguage.googleapis.com/v1beta/models/gemini-2.0-flash:generateContent?%24alt=json%3Benum-encoding%3Dint: You exceeded your current quota, please check your plan and billing details. For more information on this error, head to: https://ai.google.dev/gemini-api/docs/rate-limits.\n",
            "  Categorized as: other\n",
            "  Copied to: /content/webpage_elements_csv/other/content_1744325962_28f1c7.png\n",
            "Processing: content_1744325980_b66443.png\n"
          ]
        },
        {
          "output_type": "stream",
          "name": "stderr",
          "text": [
            "WARNING:tornado.access:429 POST /v1beta/models/gemini-2.0-flash:generateContent?%24alt=json%3Benum-encoding%3Dint (127.0.0.1) 328.45ms\n"
          ]
        },
        {
          "output_type": "stream",
          "name": "stdout",
          "text": [
            "Error categorizing /content/webpage_elements/content_1744325980_b66443.png: 429 POST https://generativelanguage.googleapis.com/v1beta/models/gemini-2.0-flash:generateContent?%24alt=json%3Benum-encoding%3Dint: You exceeded your current quota, please check your plan and billing details. For more information on this error, head to: https://ai.google.dev/gemini-api/docs/rate-limits.\n",
            "  Categorized as: other\n",
            "  Copied to: /content/webpage_elements_csv/other/content_1744325980_b66443.png\n",
            "Processing: content_1744325967_4a256b.png\n"
          ]
        },
        {
          "output_type": "stream",
          "name": "stderr",
          "text": [
            "WARNING:tornado.access:429 POST /v1beta/models/gemini-2.0-flash:generateContent?%24alt=json%3Benum-encoding%3Dint (127.0.0.1) 379.91ms\n"
          ]
        },
        {
          "output_type": "stream",
          "name": "stdout",
          "text": [
            "Error categorizing /content/webpage_elements/content_1744325967_4a256b.png: 429 POST https://generativelanguage.googleapis.com/v1beta/models/gemini-2.0-flash:generateContent?%24alt=json%3Benum-encoding%3Dint: You exceeded your current quota, please check your plan and billing details. For more information on this error, head to: https://ai.google.dev/gemini-api/docs/rate-limits.\n",
            "  Categorized as: other\n",
            "  Copied to: /content/webpage_elements_csv/other/content_1744325967_4a256b.png\n",
            "Processing: content_1744325961_f21427.png\n"
          ]
        },
        {
          "output_type": "stream",
          "name": "stderr",
          "text": [
            "WARNING:tornado.access:429 POST /v1beta/models/gemini-2.0-flash:generateContent?%24alt=json%3Benum-encoding%3Dint (127.0.0.1) 329.79ms\n"
          ]
        },
        {
          "output_type": "stream",
          "name": "stdout",
          "text": [
            "Error categorizing /content/webpage_elements/content_1744325961_f21427.png: 429 POST https://generativelanguage.googleapis.com/v1beta/models/gemini-2.0-flash:generateContent?%24alt=json%3Benum-encoding%3Dint: You exceeded your current quota, please check your plan and billing details. For more information on this error, head to: https://ai.google.dev/gemini-api/docs/rate-limits.\n",
            "  Categorized as: other\n",
            "  Copied to: /content/webpage_elements_csv/other/content_1744325961_f21427.png\n",
            "Processing: content_1744325970_535de3.png\n"
          ]
        },
        {
          "output_type": "stream",
          "name": "stderr",
          "text": [
            "WARNING:tornado.access:429 POST /v1beta/models/gemini-2.0-flash:generateContent?%24alt=json%3Benum-encoding%3Dint (127.0.0.1) 380.11ms\n"
          ]
        },
        {
          "output_type": "stream",
          "name": "stdout",
          "text": [
            "Error categorizing /content/webpage_elements/content_1744325970_535de3.png: 429 POST https://generativelanguage.googleapis.com/v1beta/models/gemini-2.0-flash:generateContent?%24alt=json%3Benum-encoding%3Dint: You exceeded your current quota, please check your plan and billing details. For more information on this error, head to: https://ai.google.dev/gemini-api/docs/rate-limits.\n",
            "  Categorized as: other\n",
            "  Copied to: /content/webpage_elements_csv/other/content_1744325970_535de3.png\n",
            "Processing: content_1744325960_f9f348.png\n"
          ]
        },
        {
          "output_type": "stream",
          "name": "stderr",
          "text": [
            "WARNING:tornado.access:429 POST /v1beta/models/gemini-2.0-flash:generateContent?%24alt=json%3Benum-encoding%3Dint (127.0.0.1) 253.20ms\n"
          ]
        },
        {
          "output_type": "stream",
          "name": "stdout",
          "text": [
            "Error categorizing /content/webpage_elements/content_1744325960_f9f348.png: 429 POST https://generativelanguage.googleapis.com/v1beta/models/gemini-2.0-flash:generateContent?%24alt=json%3Benum-encoding%3Dint: You exceeded your current quota, please check your plan and billing details. For more information on this error, head to: https://ai.google.dev/gemini-api/docs/rate-limits.\n",
            "  Categorized as: other\n",
            "  Copied to: /content/webpage_elements_csv/other/content_1744325960_f9f348.png\n",
            "Processing: content_1744325968_f86b56.png\n"
          ]
        },
        {
          "output_type": "stream",
          "name": "stderr",
          "text": [
            "WARNING:tornado.access:429 POST /v1beta/models/gemini-2.0-flash:generateContent?%24alt=json%3Benum-encoding%3Dint (127.0.0.1) 328.58ms\n"
          ]
        },
        {
          "output_type": "stream",
          "name": "stdout",
          "text": [
            "Error categorizing /content/webpage_elements/content_1744325968_f86b56.png: 429 POST https://generativelanguage.googleapis.com/v1beta/models/gemini-2.0-flash:generateContent?%24alt=json%3Benum-encoding%3Dint: You exceeded your current quota, please check your plan and billing details. For more information on this error, head to: https://ai.google.dev/gemini-api/docs/rate-limits.\n",
            "  Categorized as: other\n",
            "  Copied to: /content/webpage_elements_csv/other/content_1744325968_f86b56.png\n",
            "Processing: content_1744325971_e6dd7c.png\n"
          ]
        },
        {
          "output_type": "stream",
          "name": "stderr",
          "text": [
            "WARNING:tornado.access:429 POST /v1beta/models/gemini-2.0-flash:generateContent?%24alt=json%3Benum-encoding%3Dint (127.0.0.1) 252.61ms\n"
          ]
        },
        {
          "output_type": "stream",
          "name": "stdout",
          "text": [
            "Error categorizing /content/webpage_elements/content_1744325971_e6dd7c.png: 429 POST https://generativelanguage.googleapis.com/v1beta/models/gemini-2.0-flash:generateContent?%24alt=json%3Benum-encoding%3Dint: You exceeded your current quota, please check your plan and billing details. For more information on this error, head to: https://ai.google.dev/gemini-api/docs/rate-limits.\n",
            "  Categorized as: other\n",
            "  Copied to: /content/webpage_elements_csv/other/content_1744325971_e6dd7c.png\n",
            "Processing: content_1744325979_64cb7a.png\n"
          ]
        },
        {
          "output_type": "stream",
          "name": "stderr",
          "text": [
            "WARNING:tornado.access:429 POST /v1beta/models/gemini-2.0-flash:generateContent?%24alt=json%3Benum-encoding%3Dint (127.0.0.1) 304.07ms\n"
          ]
        },
        {
          "output_type": "stream",
          "name": "stdout",
          "text": [
            "Error categorizing /content/webpage_elements/content_1744325979_64cb7a.png: 429 POST https://generativelanguage.googleapis.com/v1beta/models/gemini-2.0-flash:generateContent?%24alt=json%3Benum-encoding%3Dint: You exceeded your current quota, please check your plan and billing details. For more information on this error, head to: https://ai.google.dev/gemini-api/docs/rate-limits.\n",
            "  Categorized as: other\n",
            "  Copied to: /content/webpage_elements_csv/other/content_1744325979_64cb7a.png\n",
            "Processing: content_1744325965_d30022.png\n"
          ]
        },
        {
          "output_type": "stream",
          "name": "stderr",
          "text": [
            "WARNING:tornado.access:429 POST /v1beta/models/gemini-2.0-flash:generateContent?%24alt=json%3Benum-encoding%3Dint (127.0.0.1) 304.64ms\n"
          ]
        },
        {
          "output_type": "stream",
          "name": "stdout",
          "text": [
            "Error categorizing /content/webpage_elements/content_1744325965_d30022.png: 429 POST https://generativelanguage.googleapis.com/v1beta/models/gemini-2.0-flash:generateContent?%24alt=json%3Benum-encoding%3Dint: You exceeded your current quota, please check your plan and billing details. For more information on this error, head to: https://ai.google.dev/gemini-api/docs/rate-limits.\n",
            "  Categorized as: other\n",
            "  Copied to: /content/webpage_elements_csv/other/content_1744325965_d30022.png\n",
            "Processing: content_1744325961_7dbaae.png\n"
          ]
        },
        {
          "output_type": "stream",
          "name": "stderr",
          "text": [
            "WARNING:tornado.access:429 POST /v1beta/models/gemini-2.0-flash:generateContent?%24alt=json%3Benum-encoding%3Dint (127.0.0.1) 253.67ms\n"
          ]
        },
        {
          "output_type": "stream",
          "name": "stdout",
          "text": [
            "Error categorizing /content/webpage_elements/content_1744325961_7dbaae.png: 429 POST https://generativelanguage.googleapis.com/v1beta/models/gemini-2.0-flash:generateContent?%24alt=json%3Benum-encoding%3Dint: You exceeded your current quota, please check your plan and billing details. For more information on this error, head to: https://ai.google.dev/gemini-api/docs/rate-limits.\n",
            "  Categorized as: other\n",
            "  Copied to: /content/webpage_elements_csv/other/content_1744325961_7dbaae.png\n",
            "Processing: content_1744325966_ce7f71.png\n"
          ]
        },
        {
          "output_type": "stream",
          "name": "stderr",
          "text": [
            "WARNING:tornado.access:429 POST /v1beta/models/gemini-2.0-flash:generateContent?%24alt=json%3Benum-encoding%3Dint (127.0.0.1) 380.56ms\n"
          ]
        },
        {
          "output_type": "stream",
          "name": "stdout",
          "text": [
            "Error categorizing /content/webpage_elements/content_1744325966_ce7f71.png: 429 POST https://generativelanguage.googleapis.com/v1beta/models/gemini-2.0-flash:generateContent?%24alt=json%3Benum-encoding%3Dint: You exceeded your current quota, please check your plan and billing details. For more information on this error, head to: https://ai.google.dev/gemini-api/docs/rate-limits.\n",
            "  Categorized as: other\n",
            "  Copied to: /content/webpage_elements_csv/other/content_1744325966_ce7f71.png\n",
            "Processing: content_1744325976_0fec21.png\n"
          ]
        },
        {
          "output_type": "stream",
          "name": "stderr",
          "text": [
            "WARNING:tornado.access:429 POST /v1beta/models/gemini-2.0-flash:generateContent?%24alt=json%3Benum-encoding%3Dint (127.0.0.1) 202.15ms\n"
          ]
        },
        {
          "output_type": "stream",
          "name": "stdout",
          "text": [
            "Error categorizing /content/webpage_elements/content_1744325976_0fec21.png: 429 POST https://generativelanguage.googleapis.com/v1beta/models/gemini-2.0-flash:generateContent?%24alt=json%3Benum-encoding%3Dint: You exceeded your current quota, please check your plan and billing details. For more information on this error, head to: https://ai.google.dev/gemini-api/docs/rate-limits.\n",
            "  Categorized as: other\n",
            "  Copied to: /content/webpage_elements_csv/other/content_1744325976_0fec21.png\n",
            "Processing: content_1744325973_695e3a.png\n"
          ]
        },
        {
          "output_type": "stream",
          "name": "stderr",
          "text": [
            "WARNING:tornado.access:429 POST /v1beta/models/gemini-2.0-flash:generateContent?%24alt=json%3Benum-encoding%3Dint (127.0.0.1) 353.98ms\n"
          ]
        },
        {
          "output_type": "stream",
          "name": "stdout",
          "text": [
            "Error categorizing /content/webpage_elements/content_1744325973_695e3a.png: 429 POST https://generativelanguage.googleapis.com/v1beta/models/gemini-2.0-flash:generateContent?%24alt=json%3Benum-encoding%3Dint: You exceeded your current quota, please check your plan and billing details. For more information on this error, head to: https://ai.google.dev/gemini-api/docs/rate-limits.\n",
            "  Categorized as: other\n",
            "  Copied to: /content/webpage_elements_csv/other/content_1744325973_695e3a.png\n",
            "Processing: content_1744325963_5e63db.png\n"
          ]
        },
        {
          "output_type": "stream",
          "name": "stderr",
          "text": [
            "WARNING:tornado.access:429 POST /v1beta/models/gemini-2.0-flash:generateContent?%24alt=json%3Benum-encoding%3Dint (127.0.0.1) 380.05ms\n"
          ]
        },
        {
          "output_type": "stream",
          "name": "stdout",
          "text": [
            "Error categorizing /content/webpage_elements/content_1744325963_5e63db.png: 429 POST https://generativelanguage.googleapis.com/v1beta/models/gemini-2.0-flash:generateContent?%24alt=json%3Benum-encoding%3Dint: You exceeded your current quota, please check your plan and billing details. For more information on this error, head to: https://ai.google.dev/gemini-api/docs/rate-limits.\n",
            "  Categorized as: other\n",
            "  Copied to: /content/webpage_elements_csv/other/content_1744325963_5e63db.png\n",
            "Processing: content_1744325974_69e26f.png\n"
          ]
        },
        {
          "output_type": "stream",
          "name": "stderr",
          "text": [
            "WARNING:tornado.access:429 POST /v1beta/models/gemini-2.0-flash:generateContent?%24alt=json%3Benum-encoding%3Dint (127.0.0.1) 481.27ms\n"
          ]
        },
        {
          "output_type": "stream",
          "name": "stdout",
          "text": [
            "Error categorizing /content/webpage_elements/content_1744325974_69e26f.png: 429 POST https://generativelanguage.googleapis.com/v1beta/models/gemini-2.0-flash:generateContent?%24alt=json%3Benum-encoding%3Dint: You exceeded your current quota, please check your plan and billing details. For more information on this error, head to: https://ai.google.dev/gemini-api/docs/rate-limits.\n",
            "  Categorized as: other\n",
            "  Copied to: /content/webpage_elements_csv/other/content_1744325974_69e26f.png\n",
            "Processing: content_1744325978_a22297.png\n"
          ]
        },
        {
          "output_type": "stream",
          "name": "stderr",
          "text": [
            "WARNING:tornado.access:429 POST /v1beta/models/gemini-2.0-flash:generateContent?%24alt=json%3Benum-encoding%3Dint (127.0.0.1) 303.78ms\n",
            "/usr/local/lib/python3.11/dist-packages/PIL/Image.py:3402: DecompressionBombWarning: Image size (140910945 pixels) exceeds limit of 89478485 pixels, could be decompression bomb DOS attack.\n",
            "  warnings.warn(\n"
          ]
        },
        {
          "output_type": "stream",
          "name": "stdout",
          "text": [
            "Error categorizing /content/webpage_elements/content_1744325978_a22297.png: 429 POST https://generativelanguage.googleapis.com/v1beta/models/gemini-2.0-flash:generateContent?%24alt=json%3Benum-encoding%3Dint: You exceeded your current quota, please check your plan and billing details. For more information on this error, head to: https://ai.google.dev/gemini-api/docs/rate-limits.\n",
            "  Categorized as: other\n",
            "  Copied to: /content/webpage_elements_csv/other/content_1744325978_a22297.png\n",
            "Processing: fullpage_1744325897.png\n",
            "  Categorized as: other\n",
            "  Copied to: /content/webpage_elements_csv/other/fullpage_1744325897.png\n",
            "Processing complete. Found 27 images:\n",
            "  table: 7\n",
            "  map: 2\n",
            "  chart: 0\n",
            "  graph: 0\n",
            "  other: 18\n"
          ]
        }
      ]
    }
  ]
}